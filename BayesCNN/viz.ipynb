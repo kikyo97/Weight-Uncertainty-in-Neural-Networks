{
 "cells": [
  {
   "cell_type": "markdown",
   "metadata": {},
   "source": [
    "# E2 - \n",
    "no data augmentation\n",
    "lr .001 with schedule\n",
    "normal kl weighting\n",
    "rho_init = -5\n",
    "n_samples = 2"
   ]
  },
  {
   "cell_type": "markdown",
   "metadata": {},
   "source": [
    "experience:\n",
    "bayes alexnet with kl loss scaled down\n",
    "- with exponential weighting\n",
    "    "
   ]
  },
  {
   "cell_type": "markdown",
   "metadata": {},
   "source": [
    "E3a : kl exponential weighting\n",
    "E3b: rho_init = -8\n",
    "E3c: downscaled (kl divided by 1e4)"
   ]
  },
  {
   "cell_type": "code",
   "execution_count": 1,
   "metadata": {},
   "outputs": [],
   "source": [
    "import pandas as pd"
   ]
  },
  {
   "cell_type": "code",
   "execution_count": 5,
   "metadata": {},
   "outputs": [],
   "source": [
    "import plotly.graph_objs as go"
   ]
  },
  {
   "cell_type": "code",
   "execution_count": 42,
   "metadata": {},
   "outputs": [],
   "source": [
    "df1 = pd.read_csv('results/E1_CIFAR10_AlexNet.csv')\n",
    "df2 = pd.read_csv('results/E1_CIFAR10_AlexNetDropout.csv')\n",
    "df3 = pd.read_csv('results/E1_CIFAR10_BayesAlexNet.csv')\n",
    "df4 = pd.read_csv('results/E1_CIFAR10_BayesAlexNet.csv')\n",
    "df4 = pd.read_csv('results/E1_CIFAR10_BayesAlexNet.csv')\n",
    "\n",
    "dfa = pd.read_csv('results/E3a_CIFAR10_BayesAlexNet.csv')\n",
    "dfb = pd.read_csv('results/E3b_CIFAR10_BayesAlexNet.csv')\n",
    "dfc = pd.read_csv('results/E3c_CIFAR10_BayesAlexNet.csv')"
   ]
  },
  {
   "cell_type": "code",
   "execution_count": 43,
   "metadata": {},
   "outputs": [
    {
     "data": {
      "application/vnd.jupyter.widget-view+json": {
       "model_id": "eada988f66bb487bb22b9a4daab974da",
       "version_major": 2,
       "version_minor": 0
      },
      "text/plain": [
       "FigureWidget({\n",
       "    'data': [{'name': 'AlexNet',\n",
       "              'type': 'scatter',\n",
       "              'uid': 'e868953…"
      ]
     },
     "metadata": {},
     "output_type": "display_data"
    }
   ],
   "source": [
    "fig = go.FigureWidget([go.Scatter(y = df1.val_acc, name='AlexNet'),\n",
    "                       go.Scatter(y=df2.val_acc, name='AlexNet Dropout'),\n",
    "                       go.Scatter(y=df3.val_acc, name='BayesAlexNet'),\n",
    "                       go.Scatter(y=dfa.val_acc, name='BayesAlexNet klexp'),\n",
    "                       go.Scatter(y=dfb.val_acc, name='BayesAlexNet small rho'),\n",
    "                       go.Scatter(y=dfc.val_acc, name='BayesAlexNet kldownscaled')\n",
    "                      ])\n",
    "fig"
   ]
  },
  {
   "cell_type": "code",
   "execution_count": 44,
   "metadata": {},
   "outputs": [
    {
     "data": {
      "application/vnd.jupyter.widget-view+json": {
       "model_id": "ef038f055b684e07b77165e11931e690",
       "version_major": 2,
       "version_minor": 0
      },
      "text/plain": [
       "FigureWidget({\n",
       "    'data': [{'name': 'AlexNet',\n",
       "              'type': 'scatter',\n",
       "              'uid': '16205ee…"
      ]
     },
     "metadata": {},
     "output_type": "display_data"
    }
   ],
   "source": [
    "go.FigureWidget([go.Scatter(y = df1.train_acc, name='AlexNet'),\n",
    "                       go.Scatter(y=df2.train_acc, name='AlexNet Dropout'),\n",
    "                       go.Scatter(y=df3.train_acc, name='BayesAlexNet'),\n",
    "                       go.Scatter(y=dfa.train_acc, name='BayesAlexNet klexp'),\n",
    "                       go.Scatter(y=dfb.train_acc, name='BayesAlexNet small rho'),\n",
    "                       go.Scatter(y=dfc.train_acc, name='BayesAlexNet kldownscaled')\n",
    "                      ])"
   ]
  },
  {
   "cell_type": "code",
   "execution_count": 16,
   "metadata": {},
   "outputs": [
    {
     "data": {
      "application/vnd.jupyter.widget-view+json": {
       "model_id": "d967f11702c049fbbeaf4aac512ca026",
       "version_major": 2,
       "version_minor": 0
      },
      "text/plain": [
       "FigureWidget({\n",
       "    'data': [{'name': 'LetNet',\n",
       "              'type': 'scatter',\n",
       "              'uid': 'f3472660…"
      ]
     },
     "metadata": {},
     "output_type": "display_data"
    }
   ],
   "source": [
    "go.FigureWidget([go.Scatter(y =pd.read_csv('results/E2_CIFAR10_LeNet.csv').val_acc, \n",
    "                            name='LetNet'),\n",
    "                       go.Scatter(y=pd.read_csv('results/E2_CIFAR10_LeNetDropout.csv').val_acc, \n",
    "                                  name='LeNet Dropout'),\n",
    "                       go.Scatter(y=pd.read_csv('results/E2_CIFAR10_BayesLeNet.csv').val_acc, \n",
    "                                  name='BayesLeNet'),\n",
    "                       go.Scatter(y=pd.read_csv('results/E2_CIFAR10_BayesLeNetDropout.csv').val_acc, \n",
    "                                  name='BayesLeNet Dropout'),\n",
    "                      ])"
   ]
  },
  {
   "cell_type": "code",
   "execution_count": 23,
   "metadata": {},
   "outputs": [],
   "source": [
    "def plot_csvs(l, prop = 'val_acc'):\n",
    "    return go.FigureWidget([\n",
    "        go.Scatter(name=x, y=pd.read_csv(\n",
    "            'results/'+x+'.csv')[prop]) for x in l])"
   ]
  },
  {
   "cell_type": "code",
   "execution_count": 35,
   "metadata": {},
   "outputs": [
    {
     "data": {
      "application/vnd.jupyter.widget-view+json": {
       "model_id": "10a5eef4013c49029abaf56aea02c0a6",
       "version_major": 2,
       "version_minor": 0
      },
      "text/plain": [
       "FigureWidget({\n",
       "    'data': [{'name': 'E1_CIFAR10_AlexNet',\n",
       "              'type': 'scatter',\n",
       "              'uid…"
      ]
     },
     "metadata": {},
     "output_type": "display_data"
    }
   ],
   "source": [
    "plot_csvs(['E1_CIFAR10_AlexNet',\n",
    "          'E1_CIFAR10_AlexNetDropout',\n",
    "           'E1_CIFAR10_BayesAlexNet',\n",
    "           'E1_CIFAR10_BayesAlexNetDropout'\n",
    "          ])"
   ]
  },
  {
   "cell_type": "code",
   "execution_count": 41,
   "metadata": {},
   "outputs": [
    {
     "data": {
      "application/vnd.jupyter.widget-view+json": {
       "model_id": "a89f68e3b126428b8ee9932581c54d2a",
       "version_major": 2,
       "version_minor": 0
      },
      "text/plain": [
       "FigureWidget({\n",
       "    'data': [{'name': 'E1_CIFAR10_AlexNet',\n",
       "              'type': 'scatter',\n",
       "              'uid…"
      ]
     },
     "metadata": {},
     "output_type": "display_data"
    }
   ],
   "source": [
    "plot_csvs(['E1_CIFAR10_AlexNet',\n",
    "           'E1_CIFAR10_BayesAlexNet',\n",
    "          'E2_CIFAR10_BayesAlexNet',\n",
    "          'E3a_CIFAR10_BayesAlexNet',\n",
    "          'E4_CIFAR10_BayesAlexNet'])"
   ]
  },
  {
   "cell_type": "code",
   "execution_count": 50,
   "metadata": {},
   "outputs": [],
   "source": [
    "bdn = pd.read_csv('results/E5_BayesDenseNet.csv')\n",
    "dn = pd.read_csv('results/E5_DenseNet.csv')\n",
    "ddn = pd.read_csv('results/E5_DenseNetDropout.csv')"
   ]
  },
  {
   "cell_type": "code",
   "execution_count": 52,
   "metadata": {},
   "outputs": [
    {
     "data": {
      "application/vnd.jupyter.widget-view+json": {
       "model_id": "49f96c8b0886450e9f50fc02f49d87d8",
       "version_major": 2,
       "version_minor": 0
      },
      "text/plain": [
       "FigureWidget({\n",
       "    'data': [{'name': 'DenseNet (Train)',\n",
       "              'type': 'scatter',\n",
       "              'uid':…"
      ]
     },
     "metadata": {},
     "output_type": "display_data"
    }
   ],
   "source": [
    "go.FigureWidget([go.Scatter(y = dn.train_acc, name = 'DenseNet (Train)'),\n",
    "                 go.Scatter(y = bdn.train_acc, name = 'Bayes DenseNet (Train)'),\n",
    "                 go.Scatter(y = dn.val_acc, name = 'DenseNet (Validation)'),\n",
    "                 go.Scatter(y = bdn.val_acc, name = 'Bayes DenseNet (Validation)'),\n",
    "                ])"
   ]
  },
  {
   "cell_type": "code",
   "execution_count": null,
   "metadata": {},
   "outputs": [],
   "source": []
  }
 ],
 "metadata": {
  "kernelspec": {
   "display_name": "Python [default]",
   "language": "python",
   "name": "python3"
  },
  "language_info": {
   "codemirror_mode": {
    "name": "ipython",
    "version": 3
   },
   "file_extension": ".py",
   "mimetype": "text/x-python",
   "name": "python",
   "nbconvert_exporter": "python",
   "pygments_lexer": "ipython3",
   "version": "3.5.5"
  }
 },
 "nbformat": 4,
 "nbformat_minor": 2
}
