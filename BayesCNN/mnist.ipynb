{
 "cells": [
  {
   "cell_type": "code",
   "execution_count": 61,
   "metadata": {},
   "outputs": [
    {
     "name": "stdout",
     "output_type": "stream",
     "text": [
      "The autoreload extension is already loaded. To reload it, use:\n",
      "  %reload_ext autoreload\n"
     ]
    }
   ],
   "source": [
    "%load_ext autoreload"
   ]
  },
  {
   "cell_type": "code",
   "execution_count": 2,
   "metadata": {},
   "outputs": [],
   "source": [
    "autoreload 2"
   ]
  },
  {
   "cell_type": "code",
   "execution_count": 57,
   "metadata": {},
   "outputs": [],
   "source": [
    "import os\n",
    "import sys\n",
    "import time\n",
    "import argparse\n",
    "import datetime\n",
    "import math\n",
    "import pickle\n",
    "from tqdm import tqdm as tqdm\n",
    "import pandas as pd\n",
    "\n",
    "import torchvision\n",
    "import torchvision.transforms as transforms\n",
    "\n",
    "import torch\n",
    "import torch.optim as optim\n",
    "import torch.utils.data as data\n",
    "import numpy as np\n",
    "import torch.nn as nn\n",
    "import torch.optim as optim\n",
    "import torch.nn.functional as F\n",
    "\n",
    "from torch.autograd import Variable\n",
    "from torchvision import datasets\n",
    "from torch.utils.data.sampler import SubsetRandomSampler\n",
    "\n",
    "from utils import DEVICE"
   ]
  },
  {
   "cell_type": "markdown",
   "metadata": {},
   "source": [
    "Handle Data"
   ]
  },
  {
   "cell_type": "code",
   "execution_count": 4,
   "metadata": {},
   "outputs": [
    {
     "name": "stdout",
     "output_type": "stream",
     "text": [
      "Downloading http://yann.lecun.com/exdb/mnist/train-images-idx3-ubyte.gz\n",
      "Downloading http://yann.lecun.com/exdb/mnist/train-labels-idx1-ubyte.gz\n",
      "Downloading http://yann.lecun.com/exdb/mnist/t10k-images-idx3-ubyte.gz\n",
      "Downloading http://yann.lecun.com/exdb/mnist/t10k-labels-idx1-ubyte.gz\n",
      "Processing...\n",
      "Done!\n"
     ]
    }
   ],
   "source": [
    "valid_size = 0.1\n",
    "batch_size = 32\n",
    "# convert data to a normalized torch.FloatTensor\n",
    "transform = transforms.Compose([\n",
    "    #transforms.RandomHorizontalFlip(), # randomly flip and rotate\n",
    "    #transforms.RandomRotation(10),\n",
    "    transforms.ToTensor(),\n",
    "    transforms.Normalize((0.5, 0.5, 0.5), (0.5, 0.5, 0.5))\n",
    "    ])\n",
    "\n",
    "train_data = torchvision.datasets.MNIST(\n",
    "                root='../data', \n",
    "                train=True,\n",
    "                download=True, \n",
    "                transform=transform)\n",
    "\n",
    "test_data = torchvision.datasets.MNIST(\n",
    "                root='../data', \n",
    "                train=False,\n",
    "                download=True, \n",
    "                transform=transform)\n",
    "\n",
    "\n",
    "# obtain training indices that will be used for validation\n",
    "num_train = len(train_data)\n",
    "indices = list(range(num_train))\n",
    "np.random.shuffle(indices)\n",
    "split = int(valid_size * num_train)\n",
    "train_idx, valid_idx = indices[split:], indices[:split]\n",
    "\n",
    "# define samplers for obtaining training and validation batches\n",
    "train_sampler = SubsetRandomSampler(train_idx)\n",
    "valid_sampler = SubsetRandomSampler(valid_idx)\n",
    "\n",
    "train_loader = torch.utils.data.DataLoader(\n",
    "                    train_data, \n",
    "                    batch_size=batch_size,\n",
    "                    sampler=train_sampler,\n",
    "                    num_workers=2)\n",
    "\n",
    "valid_loader = torch.utils.data.DataLoader(\n",
    "                    train_data, \n",
    "                    batch_size=batch_size, \n",
    "                    sampler=valid_sampler, \n",
    "                    num_workers=2)\n",
    "\n",
    "test_loader = torch.utils.data.DataLoader(\n",
    "                    test_data, \n",
    "                    batch_size=batch_size,\n",
    "                    num_workers=2)\n",
    "\n",
    "#classes = ('plane', 'car', 'bird', 'cat',\n",
    " #          'deer', 'dog', 'frog', 'horse', 'ship', 'truck')\n",
    "classes = range(10)"
   ]
  },
  {
   "cell_type": "code",
   "execution_count": 5,
   "metadata": {},
   "outputs": [
    {
     "name": "stdout",
     "output_type": "stream",
     "text": [
      "(32, 1, 28, 28)\n"
     ]
    },
    {
     "data": {
      "image/png": "[encoded data removed]",
      "text/plain": [
       "<Figure size 1800x288 with 20 Axes>"
      ]
     },
     "metadata": {},
     "output_type": "display_data"
    }
   ],
   "source": [
    "import matplotlib.pyplot as plt\n",
    "%matplotlib inline\n",
    "\n",
    "    # obtain one batch of training images\n",
    "dataiter = iter(train_loader)\n",
    "images, labels = dataiter.next()\n",
    "images = images.numpy() # convert images to numpy for display\n",
    "print(images.shape)\n",
    "\n",
    "# plot the images in the batch, along with the corresponding labels\n",
    "fig = plt.figure(figsize=(25, 4))\n",
    "# display 20 images\n",
    "for idx in np.arange(20):\n",
    "    ax = fig.add_subplot(2, 20/2, idx+1, xticks=[], yticks=[])\n",
    "    plt.imshow(images[idx][0])\n",
    "    ax.set_title(classes[labels[idx]])"
   ]
  },
  {
   "cell_type": "markdown",
   "metadata": {},
   "source": [
    "# Define Training functions"
   ]
  },
  {
   "cell_type": "markdown",
   "metadata": {},
   "source": [
    "## Define how to train a frequentist model"
   ]
  },
  {
   "cell_type": "code",
   "execution_count": 39,
   "metadata": {},
   "outputs": [],
   "source": [
    "def accuracy(outputs, labels, batch_size = batch_size):\n",
    "    _, preds = outputs.max(1)\n",
    "    correct = torch.eq(preds, labels).sum().item()\n",
    "    return correct/len(labels)"
   ]
  },
  {
   "cell_type": "code",
   "execution_count": 40,
   "metadata": {},
   "outputs": [],
   "source": [
    "def test(model):\n",
    "    test_accs = []\n",
    "    with torch.no_grad():\n",
    "        for images, labels in test_loader:\n",
    "            images, labels = images.to(DEVICE), labels.to(DEVICE)\n",
    "            outputs = model(images)\n",
    "            test_accs.append(accuracy(outputs, labels))\n",
    "    print('\\nTest Accuracy: {:.2f} %'.format(100*np.mean(test_accs)))"
   ]
  },
  {
   "cell_type": "code",
   "execution_count": 41,
   "metadata": {},
   "outputs": [],
   "source": [
    "def train(name, model, writer, n_epochs = 100):\n",
    "    print('\\nTraining Model ', name)\n",
    "    optimizer = optim.Adam(model.parameters())\n",
    "    xent = nn.CrossEntropyLoss()\n",
    "    model.train()\n",
    "    m = len(train_loader)\n",
    "    for epoch in range(n_epochs):\n",
    "        history = dict(train_acc = [],\n",
    "                      val_acc = [],\n",
    "                      xent = [])\n",
    "        epoch_data = []\n",
    "        \n",
    "        # Train\n",
    "        for batch_id, (images, labels) in enumerate(train_loader):\n",
    "            images, labels = images.to(DEVICE), labels.to(DEVICE)\n",
    "            outputs = model(images)\n",
    "            history['train_acc'].append(accuracy(outputs, labels))\n",
    "            loss = xent(outputs, labels)\n",
    "            optimizer.zero_grad()\n",
    "            loss.backward()\n",
    "            optimizer.step()\n",
    "            history['xent'].append(loss.item())\n",
    "            print('\\rEpoch {0}/{1} \\t Batch {2}/{3} \\t Cross Entropy: {4}, Train Accuracy: {5}%'.format(\n",
    "                epoch+1, n_epochs, batch_id, m, history['xent'][-1], 100*history['train_acc'][-1]), end = '')\n",
    "            \n",
    "        #Validation\n",
    "        with torch.no_grad():\n",
    "            for images, labels in valid_loader:\n",
    "                images, labels = images.to(DEVICE), labels.to(DEVICE)\n",
    "                outputs = model(images)\n",
    "                history['val_acc'].append(accuracy(outputs, labels))\n",
    "                \n",
    "        # tensorboard values\n",
    "        for key, values in history.items():\n",
    "            writer.add_scalar('MNIST/{0}/{1}'.format(name, key),\n",
    "                             np.mean(values), epoch+1)\n",
    "        \n",
    "        epoch_data.append({key:np.mean(values) for key, values in history.items()})\n",
    "    pd.DataFrame(epoch_data).to_csv('results/MNIST_{0}.csv'.format(name, n_epochs))\n",
    "    return model"
   ]
  },
  {
   "cell_type": "markdown",
   "metadata": {},
   "source": [
    "## Define how to train a Bayesian Model"
   ]
  },
  {
   "cell_type": "code",
   "execution_count": 42,
   "metadata": {},
   "outputs": [],
   "source": [
    "def bayes_train(name, model, writer, n_epochs = 100, n_samples = 2):\n",
    "    model.train()\n",
    "    m = len(train_loader)\n",
    "    \n",
    "    for epoch in range(n_epochs):\n",
    "        history = dict(train_acc = [],\n",
    "                       val_acc = [],\n",
    "                       kl = [],\n",
    "                       xent = [])\n",
    "        epoch_data = []\n",
    "        # Train\n",
    "        for batch_id, (images, labels) in enumerate(train_loader):\n",
    "            beta = 2 ** (m - (batch_id + 1)) / (2 ** m - 1)\n",
    "            #beta = 1/m\n",
    "            \n",
    "            images, labels = images.to(DEVICE), labels.to(DEVICE)\n",
    "            outputs = [model(images) for _ in range(n_samples)]\n",
    "            kl, xe, loss = model.step(outputs, labels, beta)\n",
    "            \n",
    "            history['train_acc'].append(accuracy(outputs[0], labels))\n",
    "            history['kl'].append(kl.item()/len(labels))\n",
    "            history['xent'].append(xe.item()/len(labels))\n",
    "            print('\\rEpoch {0}/{1} \\t Batch {2}/{3} \\t Cross Entropy: {4}, Train Accuracy: {5}%'.format(\n",
    "                epoch+1, n_epochs, batch_id, m, history['xent'][-1], 100*history['train_acc'][-1]), end = '')\n",
    "            \n",
    "        #Validation\n",
    "        with torch.no_grad():\n",
    "            for images, labels in valid_loader:\n",
    "                images, labels = images.to(DEVICE), labels.to(DEVICE)\n",
    "                outputs = model(images)\n",
    "                history['val_acc'].append(accuracy(outputs, labels))\n",
    "                \n",
    "        # Save values\n",
    "        for key, values in history.items():\n",
    "            writer.add_scalar('MNIST/{0}/{1}'.format(name, key),\n",
    "                                 np.mean(values), epoch+1)\n",
    "        epoch_data.append({key:np.mean(values) for key, values in history.items()})\n",
    "    pd.DataFrame(epoch_data).to_csv('results/MNIST_{0}.csv'.format(name, n_epochs))\n",
    "    return model"
   ]
  },
  {
   "cell_type": "markdown",
   "metadata": {},
   "source": [
    "# Define and Train Models"
   ]
  },
  {
   "cell_type": "code",
   "execution_count": 43,
   "metadata": {},
   "outputs": [
    {
     "name": "stderr",
     "output_type": "stream",
     "text": [
      "WARNING:root:This caffe2 python run does not have GPU support. Will run in CPU only mode.\n",
      "WARNING:root:Debug message: /opt/caffe2/build/caffe2/python/caffe2_pybind11_state_gpu.so: undefined symbol: _ZN5fLI6438FLAGS_caffe2_max_keep_on_shrink_memoryE\n",
      "CRITICAL:root:Cannot load caffe2.python. Error: /opt/caffe2/build/caffe2/python/caffe2_pybind11_state.so: undefined symbol: _ZN5fLI6438FLAGS_caffe2_max_keep_on_shrink_memoryE\n"
     ]
    }
   ],
   "source": [
    "from tensorboardX import SummaryWriter\n",
    "writer = SummaryWriter()\n",
    "N_EPOCHS = 2"
   ]
  },
  {
   "cell_type": "markdown",
   "metadata": {},
   "source": [
    "## Frequentist mlp"
   ]
  },
  {
   "cell_type": "code",
   "execution_count": 46,
   "metadata": {},
   "outputs": [
    {
     "name": "stdout",
     "output_type": "stream",
     "text": [
      "\n",
      "Training Model  MLP 100\n",
      "Epoch 2/2 \t Batch 1687/1688 \t Cross Entropy: 0.08827237039804459, Train Accuracy: 93.75%\n",
      "Test Accuracy: 95.17 %\n"
     ]
    }
   ],
   "source": [
    "from utils import Flatten\n",
    "mlp = lambda n_hidden: nn.Sequential(Flatten(28*28),\n",
    "            nn.Linear(28*28, n_hidden),\n",
    "            nn.Softplus(),\n",
    "            nn.Linear(n_hidden, n_hidden),\n",
    "            nn.Softplus(),\n",
    "            nn.Linear(n_hidden, 10))\n",
    "\n",
    "mlp_net = train('MLP 100', mlp(100).to(DEVICE), writer, n_epochs = N_EPOCHS)\n",
    "\n",
    "test(mlp_net)"
   ]
  },
  {
   "cell_type": "code",
   "execution_count": 29,
   "metadata": {},
   "outputs": [
    {
     "name": "stdout",
     "output_type": "stream",
     "text": [
      "Epoch 2/2 \t Batch 1687/1688 \t Cross Entropy: 0.007626354694366455, Train Accuracy: 50.0%\n",
      "Test Accuracy: 97.07 %\n"
     ]
    }
   ],
   "source": [
    "import models\n",
    "\n",
    "alexnet = train('AlexNet', models.AlexNet(1, 10).to(DEVICE), writer, n_epochs = N_EPOCHS)\n",
    "test(alexnet)"
   ]
  },
  {
   "cell_type": "markdown",
   "metadata": {},
   "source": [
    "## Bayesian MLP"
   ]
  },
  {
   "cell_type": "code",
   "execution_count": 30,
   "metadata": {},
   "outputs": [],
   "source": [
    "from utils import ScaleMixtureGaussian\n",
    "from bayes import BayesWrapper\n",
    "\n",
    "prior_nll = ScaleMixtureGaussian(PI = 0.75,\n",
    "                                 SIGMA_1 = np.exp(-1),\n",
    "                                 SIGMA_2 = np.exp(-6))"
   ]
  },
  {
   "cell_type": "code",
   "execution_count": 31,
   "metadata": {},
   "outputs": [
    {
     "name": "stdout",
     "output_type": "stream",
     "text": [
      "Epoch 2/2 \t Batch 1687/1688 \t Cross Entropy: 0.007733482867479324, Train Accuracy: 46.875%\n",
      "Test Accuracy: 94.72 %\n"
     ]
    }
   ],
   "source": [
    "bayesnet = BayesWrapper(name='BayesMLP 100',\n",
    "                        net=mlp(100).to(DEVICE),\n",
    "                        prior_nll = prior_nll)\n",
    "bayes_train('Bayes MLP 100', bayesnet, writer, n_epochs = N_EPOCHS, n_samples =2)\n",
    "test(bayesnet)"
   ]
  },
  {
   "cell_type": "code",
   "execution_count": 32,
   "metadata": {},
   "outputs": [
    {
     "name": "stdout",
     "output_type": "stream",
     "text": [
      "Epoch 2/2 \t Batch 1687/1688 \t Cross Entropy: 0.0013395422138273716, Train Accuracy: 50.0%\n",
      "Test Accuracy: 96.71 %\n"
     ]
    }
   ],
   "source": [
    "bayesalexnet = BayesWrapper(name='BayesAlexNet',\n",
    "                        net=models.AlexNet(1, 10).to(DEVICE),\n",
    "                        prior_nll = prior_nll)\n",
    "bayes_train('Bayes AlexNet 100', bayesalexnet , writer, n_epochs = N_EPOCHS, n_samples =2)\n",
    "test(bayesalexnet)"
   ]
  },
  {
   "cell_type": "code",
   "execution_count": 55,
   "metadata": {},
   "outputs": [
    {
     "data": {
      "text/plain": [
       "{}"
      ]
     },
     "execution_count": 55,
     "metadata": {},
     "output_type": "execute_result"
    }
   ],
   "source": [
    "writer.add_scalar('1', 1, 1)\n",
    "writer.scalar_dict"
   ]
  },
  {
   "cell_type": "code",
   "execution_count": 60,
   "metadata": {},
   "outputs": [],
   "source": [
    "pd.DataFrame([dict(a=1, b=2),dict(a=2, b=3)]).to_csv('test.csv')"
   ]
  },
  {
   "cell_type": "markdown",
   "metadata": {},
   "source": [
    "Test"
   ]
  }
 ],
 "metadata": {
  "kernelspec": {
   "display_name": "Python [default]",
   "language": "python",
   "name": "python3"
  },
  "language_info": {
   "codemirror_mode": {
    "name": "ipython",
    "version": 3
   },
   "file_extension": ".py",
   "mimetype": "text/x-python",
   "name": "python",
   "nbconvert_exporter": "python",
   "pygments_lexer": "ipython3",
   "version": "3.5.5"
  }
 },
 "nbformat": 4,
 "nbformat_minor": 2
}
