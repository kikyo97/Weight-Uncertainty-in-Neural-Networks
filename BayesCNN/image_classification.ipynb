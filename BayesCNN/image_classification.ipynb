{
 "cells": [
  {
   "cell_type": "code",
   "execution_count": 54,
   "metadata": {},
   "outputs": [],
   "source": [
    "%load_ext autoreload"
   ]
  },
  {
   "cell_type": "code",
   "execution_count": 55,
   "metadata": {},
   "outputs": [],
   "source": [
    "autoreload 2"
   ]
  },
  {
   "cell_type": "code",
   "execution_count": 56,
   "metadata": {},
   "outputs": [],
   "source": [
    "import os\n",
    "import sys\n",
    "import time\n",
    "import argparse\n",
    "import datetime\n",
    "import math\n",
    "import pickle\n",
    "from tqdm import tqdm as tqdm\n",
    "\n",
    "import torchvision\n",
    "import torchvision.transforms as transforms\n",
    "\n",
    "import torch\n",
    "import torch.optim as optim\n",
    "import torch.utils.data as data\n",
    "import numpy as np\n",
    "import torch.nn as nn\n",
    "import torch.optim as optim\n",
    "import torch.nn.functional as F\n",
    "\n",
    "from torch.autograd import Variable\n",
    "from torchvision import datasets\n",
    "from torch.utils.data.sampler import SubsetRandomSampler\n",
    "\n",
    "from utils import DEVICE"
   ]
  },
  {
   "cell_type": "markdown",
   "metadata": {},
   "source": [
    "Handle Data"
   ]
  },
  {
   "cell_type": "code",
   "execution_count": 57,
   "metadata": {},
   "outputs": [],
   "source": [
    "valid_size = 0.1\n",
    "batch_size = 32\n",
    "# convert data to a normalized torch.FloatTensor\n",
    "transform = transforms.Compose([\n",
    "    #transforms.RandomHorizontalFlip(), # randomly flip and rotate\n",
    "    transforms.RandomRotation(10),\n",
    "    transforms.ToTensor(),\n",
    "    transforms.Normalize((0.5, 0.5, 0.5), (0.5, 0.5, 0.5))\n",
    "    ])\n",
    "\n",
    "train_data = torchvision.datasets.MNIST(\n",
    "                root='../data', \n",
    "                train=True,\n",
    "                download=True, \n",
    "                transform=transform)\n",
    "\n",
    "test_data = torchvision.datasets.MNIST(\n",
    "                root='../data', \n",
    "                train=False,\n",
    "                download=True, \n",
    "                transform=transform)\n",
    "\n",
    "\n",
    "# obtain training indices that will be used for validation\n",
    "num_train = len(train_data)\n",
    "indices = list(range(num_train))\n",
    "np.random.shuffle(indices)\n",
    "split = int(valid_size * num_train)\n",
    "train_idx, valid_idx = indices[split:], indices[:split]\n",
    "\n",
    "# define samplers for obtaining training and validation batches\n",
    "train_sampler = SubsetRandomSampler(train_idx)\n",
    "valid_sampler = SubsetRandomSampler(valid_idx)\n",
    "\n",
    "train_loader = torch.utils.data.DataLoader(\n",
    "                    train_data, \n",
    "                    batch_size=batch_size,\n",
    "                    sampler=train_sampler,\n",
    "                    num_workers=2)\n",
    "\n",
    "valid_loader = torch.utils.data.DataLoader(\n",
    "                    train_data, \n",
    "                    batch_size=batch_size, \n",
    "                    sampler=valid_sampler, \n",
    "                    num_workers=2)\n",
    "\n",
    "test_loader = torch.utils.data.DataLoader(\n",
    "                    test_data, \n",
    "                    batch_size=batch_size,\n",
    "                    num_workers=2)\n",
    "\n",
    "#classes = ('plane', 'car', 'bird', 'cat',\n",
    " #          'deer', 'dog', 'frog', 'horse', 'ship', 'truck')\n",
    "classes = range(10)"
   ]
  },
  {
   "cell_type": "code",
   "execution_count": 58,
   "metadata": {},
   "outputs": [
    {
     "name": "stdout",
     "output_type": "stream",
     "text": [
      "(32, 1, 28, 28)\n"
     ]
    },
    {
     "data": {
      "image/png": "[encoded data removed]",
      "text/plain": [
       "<Figure size 1800x288 with 20 Axes>"
      ]
     },
     "metadata": {},
     "output_type": "display_data"
    }
   ],
   "source": [
    "import matplotlib.pyplot as plt\n",
    "%matplotlib inline\n",
    "\n",
    "    # obtain one batch of training images\n",
    "dataiter = iter(train_loader)\n",
    "images, labels = dataiter.next()\n",
    "images = images.numpy() # convert images to numpy for display\n",
    "print(images.shape)\n",
    "\n",
    "# plot the images in the batch, along with the corresponding labels\n",
    "fig = plt.figure(figsize=(25, 4))\n",
    "# display 20 images\n",
    "for idx in np.arange(20):\n",
    "    ax = fig.add_subplot(2, 20/2, idx+1, xticks=[], yticks=[])\n",
    "    plt.imshow(images[idx][0])\n",
    "    ax.set_title(classes[labels[idx]])"
   ]
  },
  {
   "cell_type": "markdown",
   "metadata": {},
   "source": [
    "# Define Training functions"
   ]
  },
  {
   "cell_type": "markdown",
   "metadata": {},
   "source": [
    "## Define how to train a frequentist model"
   ]
  },
  {
   "cell_type": "code",
   "execution_count": 59,
   "metadata": {},
   "outputs": [],
   "source": [
    "def accuracy(outputs, labels, batch_size = batch_size):\n",
    "    _, preds = outputs.max(1)\n",
    "    correct = torch.eq(preds, labels).sum().item()\n",
    "    return correct/batch_size"
   ]
  },
  {
   "cell_type": "code",
   "execution_count": 60,
   "metadata": {},
   "outputs": [],
   "source": [
    "def test(model):\n",
    "    test_accs = []\n",
    "    with torch.no_grad():\n",
    "        for images, labels in test_loader:\n",
    "            outputs = model(images)\n",
    "            test_accs.append(accuracy(outputs, labels))\n",
    "    return np.mean(test_accs)"
   ]
  },
  {
   "cell_type": "code",
   "execution_count": 84,
   "metadata": {},
   "outputs": [],
   "source": [
    "def train(name, model, writer, n_epochs = 100):\n",
    "    optimizer = optim.Adam(model.parameters())\n",
    "    xent = nn.CrossEntropyLoss()\n",
    "    model.train()\n",
    "    m = len(train_loader)\n",
    "    for epoch in range(n_epochs):\n",
    "        history = dict(train_acc = [],\n",
    "                      val_acc = [],\n",
    "                      xent = [])\n",
    "        \n",
    "        # Train\n",
    "        for batch_id, (images, labels) in enumerate(train_loader):\n",
    "            images, labels = images.to(DEVICE), labels.to(DEVICE)\n",
    "            outputs = model(images)\n",
    "            history['train_acc'].append(accuracy(outputs, labels))\n",
    "            loss = xent(outputs, labels)\n",
    "            optimizer.zero_grad()\n",
    "            loss.backward()\n",
    "            optimizer.step()\n",
    "            history['xent'].append(loss.item())\n",
    "            print('\\rEpoch {0}/{1} \\t Batch {2}/{3} \\t Cross Entropy: {4}, Train Accuracy: {5}%'.format(\n",
    "                epoch+1, n_epochs, batch_id, m, history['xent'][-1], 100*history['train_acc'][-1]), end = '')\n",
    "            \n",
    "        #Validation\n",
    "        with torch.no_grad():\n",
    "            for images, labels in valid_loader:\n",
    "                images, labels = images.to(DEVICE), labels.to(DEVICE)\n",
    "                outputs = model(images)\n",
    "                history['val_acc'].append(accuracy(outputs, labels))\n",
    "                \n",
    "        # Save values\n",
    "        for key, values in history.items():\n",
    "            writer.add_scalar('MNIST/{0}/{1}'.format(name, key),\n",
    "                             np.mean(values), epoch+1)\n",
    "    return model"
   ]
  },
  {
   "cell_type": "markdown",
   "metadata": {},
   "source": [
    "## Define how to train a Bayesian Model"
   ]
  },
  {
   "cell_type": "code",
   "execution_count": 79,
   "metadata": {},
   "outputs": [],
   "source": [
    "def bayes_train(name, model, writer, n_epochs = 100, n_samples = 2):\n",
    "    model.train()\n",
    "    m = len(train_loader)\n",
    "    \n",
    "    for epoch in range(n_epochs):\n",
    "        history = dict(train_acc = [],\n",
    "                       val_acc = [],\n",
    "                       kl = [],\n",
    "                       xent = [])\n",
    "        \n",
    "        # Train\n",
    "        for batch_id, (images, labels) in enumerate(train_loader):\n",
    "            beta = 2 ** (m - (batch_id + 1)) / (2 ** m - 1)\n",
    "            #beta = 1/m\n",
    "            \n",
    "            images, labels = images.to(DEVICE), labels.to(DEVICE)\n",
    "            outputs = [model(images) for _ in range(n_samples)]\n",
    "            kl, xe, loss = model.step(outputs, labels, beta)\n",
    "            \n",
    "            history['train_acc'].append(accuracy(outputs[0], labels))\n",
    "            history['kl'].append(kl.item()/batch_size)\n",
    "            history['xent'].append(xe.item()/batch_size)\n",
    "            print('\\rEpoch {0}/{1} \\t Batch {2}/{3} \\t Cross Entropy: {4}, Train Accuracy: {5}%'.format(\n",
    "                epoch+1, n_epochs, batch_id, m, history['xent'][-1], 100*history['train_acc'][-1]), end = '')\n",
    "            \n",
    "        #Validation\n",
    "        with torch.no_grad():\n",
    "            for images, labels in valid_loader:\n",
    "                images, labels = images.to(DEVICE), labels.to(DEVICE)\n",
    "                outputs = model(images)\n",
    "                history['val_acc'].append(accuracy(outputs, labels))\n",
    "                \n",
    "        # Save values\n",
    "        for key, values in history.items():\n",
    "            writer.add_scalar('MNIST/{0}/{1}'.format(name, key),\n",
    "                                 np.mean(values), epoch+1)\n",
    "    return model"
   ]
  },
  {
   "cell_type": "markdown",
   "metadata": {},
   "source": [
    "# Define and Train Models"
   ]
  },
  {
   "cell_type": "code",
   "execution_count": 51,
   "metadata": {},
   "outputs": [],
   "source": [
    "from tensorboardX import SummaryWriter\n",
    "writer = SummaryWriter()\n",
    "N_EPOCHS = 2"
   ]
  },
  {
   "cell_type": "markdown",
   "metadata": {},
   "source": [
    "## Frequentist mlp"
   ]
  },
  {
   "cell_type": "code",
   "execution_count": 80,
   "metadata": {},
   "outputs": [
    {
     "name": "stderr",
     "output_type": "stream",
     "text": [
      "\n",
      "  0%|          | 0/2 [00:00<?, ?it/s]\u001b[A"
     ]
    },
    {
     "name": "stdout",
     "output_type": "stream",
     "text": [
      "Epoch 1/2 \t Batch 1687/1688 \t Cross Entropy: 0.02684926986694336, Train Accuracy: 50.0%"
     ]
    },
    {
     "name": "stderr",
     "output_type": "stream",
     "text": [
      "\n",
      " 50%|█████     | 1/2 [00:07<00:07,  7.31s/it]\u001b[A"
     ]
    },
    {
     "name": "stdout",
     "output_type": "stream",
     "text": [
      "Epoch 2/2 \t Batch 1687/1688 \t Cross Entropy: 0.03120894730091095, Train Accuracy: 50.0%"
     ]
    },
    {
     "name": "stderr",
     "output_type": "stream",
     "text": [
      "\n",
      "100%|██████████| 2/2 [00:14<00:00,  7.24s/it]\u001b[A"
     ]
    }
   ],
   "source": [
    "from utils import Flatten\n",
    "mlp = lambda n_hidden: nn.Sequential(Flatten(28*28),\n",
    "            nn.Linear(28*28, n_hidden),\n",
    "            nn.Softplus(),\n",
    "            nn.Linear(n_hidden, n_hidden),\n",
    "            nn.Softplus(),\n",
    "            nn.Linear(n_hidden, 10))\n",
    "\n",
    "mlp_net = train('MLP 100', mlp(100), writer, n_epochs = N_EPOCHS)"
   ]
  },
  {
   "cell_type": "code",
   "execution_count": 67,
   "metadata": {},
   "outputs": [
    {
     "name": "stderr",
     "output_type": "stream",
     "text": [
      "\n",
      "  0%|          | 0/2 [00:00<?, ?it/s]\u001b[A"
     ]
    },
    {
     "name": "stdout",
     "output_type": "stream",
     "text": [
      "Cross Entropy: 0.3836577236652374 Train Accuracy: 0.46875"
     ]
    },
    {
     "name": "stderr",
     "output_type": "stream",
     "text": [
      "\n",
      " 50%|█████     | 1/2 [02:21<02:21, 141.13s/it]\u001b[A"
     ]
    },
    {
     "name": "stdout",
     "output_type": "stream",
     "text": [
      "Cross Entropy: 0.018890127539634705 Train Accuracy: 0.5"
     ]
    },
    {
     "name": "stderr",
     "output_type": "stream",
     "text": [
      "\n",
      "100%|██████████| 2/2 [04:46<00:00, 142.50s/it]\u001b[A"
     ]
    }
   ],
   "source": [
    "import models\n",
    "\n",
    "alexnet = train('AlexNet', models.AlexNet(1, 10), writer, n_epochs = N_EPOCHS)"
   ]
  },
  {
   "cell_type": "markdown",
   "metadata": {},
   "source": [
    "## Bayesian MLP"
   ]
  },
  {
   "cell_type": "code",
   "execution_count": 88,
   "metadata": {},
   "outputs": [],
   "source": [
    "from utils import ScaleMixtureGaussian\n",
    "from bayes import BayesWrapper\n",
    "\n",
    "prior_nll = ScaleMixtureGaussian(PI = 0.75,\n",
    "                                 SIGMA_1 = np.exp(-1),\n",
    "                                 SIGMA_2 = np.exp(-6))"
   ]
  },
  {
   "cell_type": "code",
   "execution_count": 89,
   "metadata": {},
   "outputs": [
    {
     "name": "stdout",
     "output_type": "stream",
     "text": [
      "Epoch 2/2 \t Batch 1687/1688 \t Cross Entropy: 0.001667552161961794, Train Accuracy: 50.0%"
     ]
    },
    {
     "data": {
      "text/plain": [
       "BayesWrapper(\n",
       "Sequential(\n",
       "  (0): Flatten()\n",
       "  (1): Linear(in_features=784, out_features=100, bias=True)\n",
       "  (2): Softplus(beta=1, threshold=20)\n",
       "  (3): Linear(in_features=100, out_features=100, bias=True)\n",
       "  (4): Softplus(beta=1, threshold=20)\n",
       "  (5): Linear(in_features=100, out_features=10, bias=True)\n",
       "))"
      ]
     },
     "execution_count": 89,
     "metadata": {},
     "output_type": "execute_result"
    }
   ],
   "source": [
    "bayesnet = BayesWrapper(name='BayesMLP 100',\n",
    "                        net=mlp(100),\n",
    "                        prior_nll = prior_nll)\n",
    "bayes_train('Bayes MLP 100', bayesnet, writer, n_epochs = N_EPOCHS, n_samples =2) "
   ]
  },
  {
   "cell_type": "code",
   "execution_count": 91,
   "metadata": {},
   "outputs": [
    {
     "name": "stdout",
     "output_type": "stream",
     "text": [
      "Epoch 2/2 \t Batch 1687/1688 \t Cross Entropy: 0.002856199163943529, Train Accuracy: 50.0%"
     ]
    },
    {
     "data": {
      "text/plain": [
       "BayesWrapper(\n",
       "AlexNet(\n",
       "  (0): Conv2d(1, 64, kernel_size=(11, 11), stride=(4, 4), padding=(5, 5))\n",
       "  (1): Softplus(beta=1, threshold=20)\n",
       "  (2): MaxPool2d(kernel_size=2, stride=2, padding=0, dilation=1, ceil_mode=False)\n",
       "  (3): Conv2d(64, 192, kernel_size=(5, 5), stride=(1, 1), padding=(2, 2))\n",
       "  (4): Softplus(beta=1, threshold=20)\n",
       "  (5): MaxPool2d(kernel_size=2, stride=2, padding=0, dilation=1, ceil_mode=False)\n",
       "  (6): Conv2d(192, 384, kernel_size=(3, 3), stride=(1, 1), padding=(1, 1))\n",
       "  (7): Softplus(beta=1, threshold=20)\n",
       "  (8): Conv2d(384, 256, kernel_size=(3, 3), stride=(1, 1), padding=(1, 1))\n",
       "  (9): Softplus(beta=1, threshold=20)\n",
       "  (10): Conv2d(256, 128, kernel_size=(3, 3), stride=(1, 1), padding=(1, 1))\n",
       "  (11): Softplus(beta=1, threshold=20)\n",
       "  (12): MaxPool2d(kernel_size=2, stride=2, padding=0, dilation=1, ceil_mode=False)\n",
       "  (13): Flatten()\n",
       "  (14): Linear(in_features=128, out_features=10, bias=True)\n",
       "))"
      ]
     },
     "execution_count": 91,
     "metadata": {},
     "output_type": "execute_result"
    }
   ],
   "source": [
    "bayesalexnet = BayesWrapper(name='BayesAlexNet',\n",
    "                        net=models.AlexNet(1, 10),\n",
    "                        prior_nll = prior_nll)\n",
    "bayes_train('Bayes AlexNet 100', bayesalexnet , writer, n_epochs = N_EPOCHS, n_samples =2)  "
   ]
  },
  {
   "cell_type": "code",
   "execution_count": 40,
   "metadata": {},
   "outputs": [],
   "source": [
    "writer.export_scalars_to_json('all_scalars.json')"
   ]
  },
  {
   "cell_type": "markdown",
   "metadata": {},
   "source": [
    "Test"
   ]
  },
  {
   "cell_type": "code",
   "execution_count": 92,
   "metadata": {},
   "outputs": [
    {
     "name": "stdout",
     "output_type": "stream",
     "text": [
      "Accuracy of the network on the 10000 test images: 95.13 %\n"
     ]
    }
   ],
   "source": [
    "print('Accuracy of the network on the 10000 test images: {:.2f} %'.format(\n",
    "    100 * test(bayesnet)))"
   ]
  },
  {
   "cell_type": "code",
   "execution_count": 93,
   "metadata": {},
   "outputs": [
    {
     "name": "stdout",
     "output_type": "stream",
     "text": [
      "Accuracy of the network on the 10000 test images: 96.87 %\n"
     ]
    }
   ],
   "source": [
    "print('Accuracy of the network on the 10000 test images: {:.2f} %'.format(\n",
    "    100 * test(bayesalexnet)))"
   ]
  },
  {
   "cell_type": "code",
   "execution_count": 95,
   "metadata": {},
   "outputs": [
    {
     "name": "stdout",
     "output_type": "stream",
     "text": [
      "0.9689496805111821\n"
     ]
    }
   ],
   "source": [
    "model = bayesalexnet\n",
    "test_accs = []\n",
    "with torch.no_grad():\n",
    "    for images, labels in test_loader:\n",
    "        outputs = sum([model(images) for _ in range(5)])\n",
    "        test_accs.append(accuracy(outputs, labels))\n",
    "print(np.mean(test_accs))"
   ]
  },
  {
   "cell_type": "code",
   "execution_count": 96,
   "metadata": {},
   "outputs": [],
   "source": [
    "import threading"
   ]
  },
  {
   "cell_type": "code",
   "execution_count": 109,
   "metadata": {},
   "outputs": [
    {
     "name": "stdout",
     "output_type": "stream",
     "text": [
      "started\n"
     ]
    }
   ],
   "source": [
    "t0 = time.time()\n",
    "\n",
    "def f1():\n",
    "    time.sleep(5)\n",
    "    a.value += ' ok1: '+str(time.time() - t0)\n",
    "    \n",
    "def f2():\n",
    "    time.sleep(5)\n",
    "    a.value += ' ok2 '+str(time.time() - t0)\n",
    "    \n",
    "t1 = threading.Thread(target = f1)\n",
    "t2 = threading.Thread(target=f2)\n",
    "t1.start()\n",
    "t2.start()\n",
    "print('started')\n"
   ]
  },
  {
   "cell_type": "code",
   "execution_count": 100,
   "metadata": {},
   "outputs": [],
   "source": [
    "from ipywidgets import HTML"
   ]
  },
  {
   "cell_type": "code",
   "execution_count": 106,
   "metadata": {},
   "outputs": [],
   "source": [
    "a = HTML('a')"
   ]
  },
  {
   "cell_type": "code",
   "execution_count": 107,
   "metadata": {},
   "outputs": [
    {
     "data": {
      "application/vnd.jupyter.widget-view+json": {
       "model_id": "ba57c428540a46668e2d7ea1b750c613",
       "version_major": 2,
       "version_minor": 0
      },
      "text/plain": [
       "HTML(value='a')"
      ]
     },
     "metadata": {},
     "output_type": "display_data"
    }
   ],
   "source": [
    "a"
   ]
  },
  {
   "cell_type": "code",
   "execution_count": 103,
   "metadata": {},
   "outputs": [],
   "source": [
    "a.value = 'r'"
   ]
  },
  {
   "cell_type": "code",
   "execution_count": null,
   "metadata": {},
   "outputs": [],
   "source": []
  }
 ],
 "metadata": {
  "kernelspec": {
   "display_name": "Python 3",
   "language": "python",
   "name": "python3"
  },
  "language_info": {
   "codemirror_mode": {
    "name": "ipython",
    "version": 3
   },
   "file_extension": ".py",
   "mimetype": "text/x-python",
   "name": "python",
   "nbconvert_exporter": "python",
   "pygments_lexer": "ipython3",
   "version": "3.7.2"
  }
 },
 "nbformat": 4,
 "nbformat_minor": 2
}
