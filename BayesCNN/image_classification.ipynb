{
 "cells": [
  {
   "cell_type": "code",
   "execution_count": 1,
   "metadata": {},
   "outputs": [],
   "source": [
    "%load_ext autoreload"
   ]
  },
  {
   "cell_type": "code",
   "execution_count": 2,
   "metadata": {},
   "outputs": [],
   "source": [
    "autoreload 2"
   ]
  },
  {
   "cell_type": "code",
   "execution_count": 24,
   "metadata": {},
   "outputs": [],
   "source": [
    "import os\n",
    "import sys\n",
    "import time\n",
    "import argparse\n",
    "import datetime\n",
    "import math\n",
    "import pickle\n",
    "from tqdm import tqdm as tqdm\n",
    "\n",
    "import torchvision\n",
    "import torchvision.transforms as transforms\n",
    "\n",
    "import torch\n",
    "import torch.optim as optim\n",
    "import torch.utils.data as data\n",
    "import numpy as np\n",
    "import torch.nn as nn\n",
    "import torch.optim as optim\n",
    "import torch.nn.functional as F\n",
    "\n",
    "from torch.autograd import Variable\n",
    "from torchvision import datasets\n",
    "from torch.utils.data.sampler import SubsetRandomSampler\n",
    "\n",
    "from utils import DEVICE"
   ]
  },
  {
   "cell_type": "markdown",
   "metadata": {},
   "source": [
    "Handle Data"
   ]
  },
  {
   "cell_type": "code",
   "execution_count": 16,
   "metadata": {},
   "outputs": [],
   "source": [
    "valid_size = 0.1\n",
    "batch_size = 32\n",
    "# convert data to a normalized torch.FloatTensor\n",
    "transform = transforms.Compose([\n",
    "    #transforms.RandomHorizontalFlip(), # randomly flip and rotate\n",
    "    transforms.RandomRotation(10),\n",
    "    transforms.ToTensor(),\n",
    "    transforms.Normalize((0.5, 0.5, 0.5), (0.5, 0.5, 0.5))\n",
    "    ])\n",
    "\n",
    "train_data = torchvision.datasets.MNIST(\n",
    "                root='../data', \n",
    "                train=True,\n",
    "                download=True, \n",
    "                transform=transform)\n",
    "\n",
    "test_data = torchvision.datasets.MNIST(\n",
    "                root='../data', \n",
    "                train=False,\n",
    "                download=True, \n",
    "                transform=transform)\n",
    "\n",
    "\n",
    "# obtain training indices that will be used for validation\n",
    "num_train = len(train_data)\n",
    "indices = list(range(num_train))\n",
    "np.random.shuffle(indices)\n",
    "split = int(valid_size * num_train)\n",
    "train_idx, valid_idx = indices[split:], indices[:split]\n",
    "\n",
    "# define samplers for obtaining training and validation batches\n",
    "train_sampler = SubsetRandomSampler(train_idx)\n",
    "valid_sampler = SubsetRandomSampler(valid_idx)\n",
    "\n",
    "train_loader = torch.utils.data.DataLoader(\n",
    "                    train_data, \n",
    "                    batch_size=batch_size,\n",
    "                    sampler=train_sampler,\n",
    "                    num_workers=2)\n",
    "\n",
    "valid_loader = torch.utils.data.DataLoader(\n",
    "                    train_data, \n",
    "                    batch_size=batch_size, \n",
    "                    sampler=valid_sampler, \n",
    "                    num_workers=2)\n",
    "\n",
    "test_loader = torch.utils.data.DataLoader(\n",
    "                    test_data, \n",
    "                    batch_size=batch_size,\n",
    "                    num_workers=2)\n",
    "\n",
    "#classes = ('plane', 'car', 'bird', 'cat',\n",
    " #          'deer', 'dog', 'frog', 'horse', 'ship', 'truck')\n",
    "classes = range(10)"
   ]
  },
  {
   "cell_type": "code",
   "execution_count": 17,
   "metadata": {},
   "outputs": [
    {
     "name": "stdout",
     "output_type": "stream",
     "text": [
      "(32, 1, 28, 28)\n"
     ]
    },
    {
     "data": {
      "image/png": "[encoded data removed]",
      "text/plain": [
       "<Figure size 1800x288 with 20 Axes>"
      ]
     },
     "metadata": {},
     "output_type": "display_data"
    }
   ],
   "source": [
    "import matplotlib.pyplot as plt\n",
    "%matplotlib inline\n",
    "\n",
    "    # obtain one batch of training images\n",
    "dataiter = iter(train_loader)\n",
    "images, labels = dataiter.next()\n",
    "images = images.numpy() # convert images to numpy for display\n",
    "print(images.shape)\n",
    "\n",
    "# plot the images in the batch, along with the corresponding labels\n",
    "fig = plt.figure(figsize=(25, 4))\n",
    "# display 20 images\n",
    "for idx in np.arange(20):\n",
    "    ax = fig.add_subplot(2, 20/2, idx+1, xticks=[], yticks=[])\n",
    "    plt.imshow(images[idx][0])\n",
    "    ax.set_title(classes[labels[idx]])"
   ]
  },
  {
   "cell_type": "markdown",
   "metadata": {},
   "source": [
    "# Define Training functions"
   ]
  },
  {
   "cell_type": "markdown",
   "metadata": {},
   "source": [
    "## Define how to train a frequentist model"
   ]
  },
  {
   "cell_type": "code",
   "execution_count": 34,
   "metadata": {},
   "outputs": [],
   "source": [
    "def accuracy(outputs, labels, batch_size = batch_size):\n",
    "    _, preds = outputs.max(1)\n",
    "    correct = torch.eq(preds, labels).sum().item()\n",
    "    return correct/batch_size"
   ]
  },
  {
   "cell_type": "code",
   "execution_count": 42,
   "metadata": {},
   "outputs": [],
   "source": [
    "def test(model):\n",
    "    test_accs = []\n",
    "    with torch.no_grad():\n",
    "        for images, labels in test_loader:\n",
    "            outputs = model(images)\n",
    "            test_accs.append(accuracy(outputs, labels))\n",
    "    return np.mean(test_accs)"
   ]
  },
  {
   "cell_type": "code",
   "execution_count": 35,
   "metadata": {},
   "outputs": [],
   "source": [
    "def train(name, model, writer, n_epochs = 100):\n",
    "    optimizer = optim.Adam(model.parameters())\n",
    "    xent = nn.CrossEntropyLoss()\n",
    "    model.train()\n",
    "    m = len(train_loader)\n",
    "    for epoch in tqdm(range(n_epochs)):\n",
    "        history = dict(train_acc = [],\n",
    "                      val_acc = [],\n",
    "                      xent = [])\n",
    "        \n",
    "        # Train\n",
    "        for batch_id, (images, labels) in enumerate(train_loader):\n",
    "            images, labels = images.to(DEVICE), labels.to(DEVICE)\n",
    "            outputs = model(images)\n",
    "            history['train_acc'].append(accuracy(outputs, labels))\n",
    "            loss = xent(outputs, labels)\n",
    "            optimizer.zero_grad()\n",
    "            loss.backward()\n",
    "            optimizer.step()\n",
    "            history['xent'].append(loss.item())\n",
    "            \n",
    "        #Validation\n",
    "        with torch.no_grad():\n",
    "            for images, labels in valid_loader:\n",
    "                images, labels = images.to(DEVICE), labels.to(DEVICE)\n",
    "                outputs = model(images)\n",
    "                history['val_acc'].append(accuracy(outputs, labels))\n",
    "                \n",
    "        # Save values\n",
    "        for key, values in history.items():\n",
    "            writer.add_scalar('MNIST/{0}/{1}'.format(name, key),\n",
    "                             np.mean(values), epoch)"
   ]
  },
  {
   "cell_type": "markdown",
   "metadata": {},
   "source": [
    "## Define how to train a Bayesian Model"
   ]
  },
  {
   "cell_type": "code",
   "execution_count": 50,
   "metadata": {},
   "outputs": [],
   "source": [
    "def bayes_train(name, model, writer, n_epochs = 100, n_samples = 2):\n",
    "    model.train()\n",
    "    m = len(train_loader)\n",
    "    \n",
    "    for epoch in tqdm(range(n_epochs)):\n",
    "        history = dict(train_acc = [],\n",
    "                       val_acc = [],\n",
    "                       kl = [],\n",
    "                       xent = [])\n",
    "        \n",
    "        # Train\n",
    "        for batch_id, (images, labels) in enumerate(train_loader):\n",
    "            beta = 2 ** (m - (batch_id + 1)) / (2 ** m - 1)\n",
    "            #beta = 1/m\n",
    "            \n",
    "            images, labels = images.to(DEVICE), labels.to(DEVICE)\n",
    "            outputs = [model(images) for _ in range(n_samples)]\n",
    "            kl, xe, loss = model.step(outputs, labels, beta)\n",
    "            \n",
    "            history['train_acc'].append(accuracy(outputs[0], labels))\n",
    "            history['kl'].append(kl.item()/batch_size)\n",
    "            history['xent'].append(xe.item()/batch_size)\n",
    "            print('\\rloss', xe.item(), end = '')\n",
    "            \n",
    "        #Validation\n",
    "        with torch.no_grad():\n",
    "            for images, labels in valid_loader:\n",
    "                images, labels = images.to(DEVICE), labels.to(DEVICE)\n",
    "                outputs = model(images)\n",
    "                history['val_acc'].append(accuracy(outputs, labels))\n",
    "                \n",
    "        # Save values\n",
    "        for key, values in history.items():\n",
    "            writer.add_scalar('MNIST/{0}/{1}'.format(name, key),\n",
    "                                 np.mean(values), epoch)"
   ]
  },
  {
   "cell_type": "markdown",
   "metadata": {},
   "source": [
    "# Define and Train Models"
   ]
  },
  {
   "cell_type": "code",
   "execution_count": 51,
   "metadata": {},
   "outputs": [],
   "source": [
    "from tensorboardX import SummaryWriter\n",
    "writer = SummaryWriter()\n",
    "N_EPOCHS = 2\n",
    "PI = 0.75\n",
    "SIGMA_1 = np.exp(-1)\n",
    "SIGMA_2 = np.exp(-6)"
   ]
  },
  {
   "cell_type": "markdown",
   "metadata": {},
   "source": [
    "## Frequentist mlp"
   ]
  },
  {
   "cell_type": "code",
   "execution_count": 38,
   "metadata": {},
   "outputs": [
    {
     "name": "stderr",
     "output_type": "stream",
     "text": [
      "\n",
      "  0%|          | 0/2 [00:00<?, ?it/s]\u001b[A\n",
      " 50%|█████     | 1/2 [00:06<00:06,  6.43s/it]\u001b[A\n",
      "100%|██████████| 2/2 [00:12<00:00,  6.33s/it]\u001b[A"
     ]
    }
   ],
   "source": [
    "from utils import Flatten\n",
    "mlp = lambda n_hidden: nn.Sequential(Flatten(28*28),\n",
    "            nn.Linear(28*28, n_hidden),\n",
    "            nn.Softplus(),\n",
    "            nn.Linear(n_hidden, n_hidden),\n",
    "            nn.Softplus(),\n",
    "            nn.Linear(n_hidden, 10))\n",
    "\n",
    "net = mlp(100)\n",
    "name = 'MLP 100'\n",
    "\n",
    "train(name, net, writer, n_epochs = N_EPOCHS)"
   ]
  },
  {
   "cell_type": "markdown",
   "metadata": {},
   "source": [
    "## Bayesian MLP"
   ]
  },
  {
   "cell_type": "code",
   "execution_count": 52,
   "metadata": {},
   "outputs": [
    {
     "name": "stderr",
     "output_type": "stream",
     "text": [
      "\n",
      "  0%|          | 0/2 [00:00<?, ?it/s]\u001b[A"
     ]
    },
    {
     "name": "stdout",
     "output_type": "stream",
     "text": [
      "loss 1.3006181716918945"
     ]
    },
    {
     "name": "stderr",
     "output_type": "stream",
     "text": [
      "\n",
      " 50%|█████     | 1/2 [00:24<00:24, 24.02s/it]\u001b[A"
     ]
    },
    {
     "name": "stdout",
     "output_type": "stream",
     "text": [
      "loss 0.26574915647506714"
     ]
    },
    {
     "name": "stderr",
     "output_type": "stream",
     "text": [
      "\n",
      "100%|██████████| 2/2 [00:55<00:00, 26.33s/it]\u001b[A"
     ]
    }
   ],
   "source": [
    "from utils import ScaleMixtureGaussian\n",
    "from bayes import BayesWrapper\n",
    "\n",
    "prior_nll = ScaleMixtureGaussian(PI = PI,\n",
    "                                 SIGMA_1 = SIGMA_1,\n",
    "                                 SIGMA_2 = SIGMA_2)\n",
    "\n",
    "bayesnet = BayesWrapper(name='BayesMLP 100',\n",
    "                        net=mlp(100),\n",
    "                        prior_nll = prior_nll)\n",
    "bayes_train('Bayes MLP 100', bayesnet, writer, n_epochs = N_EPOCHS, n_samples =2)      "
   ]
  },
  {
   "cell_type": "code",
   "execution_count": 40,
   "metadata": {},
   "outputs": [],
   "source": [
    "writer.export_scalars_to_json('all_scalars.json')"
   ]
  },
  {
   "cell_type": "markdown",
   "metadata": {},
   "source": [
    "Test"
   ]
  },
  {
   "cell_type": "code",
   "execution_count": 53,
   "metadata": {},
   "outputs": [
    {
     "name": "stderr",
     "output_type": "stream",
     "text": [
      "\n",
      "  0%|          | 0/313 [00:00<?, ?it/s]\u001b[A\n",
      "  1%|▏         | 4/313 [00:00<00:08, 37.36it/s]\u001b[A\n",
      "  6%|▌         | 19/313 [00:00<00:06, 47.98it/s]\u001b[A\n",
      " 11%|█         | 33/313 [00:00<00:04, 59.73it/s]\u001b[A\n",
      " 16%|█▌        | 49/313 [00:00<00:03, 73.24it/s]\u001b[A\n",
      " 21%|██        | 65/313 [00:00<00:02, 87.05it/s]\u001b[A\n",
      " 26%|██▌       | 80/313 [00:00<00:02, 98.94it/s]\u001b[A\n",
      " 30%|███       | 95/313 [00:00<00:01, 109.28it/s]\u001b[A\n",
      " 35%|███▍      | 109/313 [00:00<00:01, 116.77it/s]\u001b[A\n",
      " 40%|███▉      | 125/313 [00:00<00:01, 126.51it/s]\u001b[A\n",
      " 45%|████▌     | 141/313 [00:01<00:01, 133.99it/s]\u001b[A\n",
      " 50%|█████     | 157/313 [00:01<00:01, 139.78it/s]\u001b[A\n",
      " 55%|█████▍    | 172/313 [00:01<00:00, 141.14it/s]\u001b[A\n",
      " 60%|██████    | 188/313 [00:01<00:00, 144.01it/s]\u001b[A\n",
      " 65%|██████▌   | 204/313 [00:01<00:00, 148.03it/s]\u001b[A\n",
      " 71%|███████   | 221/313 [00:01<00:00, 151.99it/s]\u001b[A\n",
      " 76%|███████▌  | 237/313 [00:01<00:00, 153.61it/s]\u001b[A\n",
      " 81%|████████  | 253/313 [00:01<00:00, 151.46it/s]\u001b[A\n",
      " 86%|████████▌ | 269/313 [00:01<00:00, 153.00it/s]\u001b[A\n",
      " 91%|█████████ | 285/313 [00:01<00:00, 153.07it/s]\u001b[A\n",
      " 96%|█████████▌| 301/313 [00:02<00:00, 152.87it/s]\u001b[A\n",
      "100%|██████████| 313/313 [00:02<00:00, 144.85it/s]\u001b[A"
     ]
    },
    {
     "name": "stdout",
     "output_type": "stream",
     "text": [
      "Accuracy of the network on the 10000 test images: 82.67 %\n"
     ]
    }
   ],
   "source": [
    "print('Accuracy of the network on the 10000 test images: {:.2f} %'.format(\n",
    "    100 * test(bayesnet)))"
   ]
  },
  {
   "cell_type": "code",
   "execution_count": 10,
   "metadata": {},
   "outputs": [],
   "source": []
  },
  {
   "cell_type": "code",
   "execution_count": null,
   "metadata": {},
   "outputs": [],
   "source": []
  }
 ],
 "metadata": {
  "kernelspec": {
   "display_name": "Python 3",
   "language": "python",
   "name": "python3"
  },
  "language_info": {
   "codemirror_mode": {
    "name": "ipython",
    "version": 3
   },
   "file_extension": ".py",
   "mimetype": "text/x-python",
   "name": "python",
   "nbconvert_exporter": "python",
   "pygments_lexer": "ipython3",
   "version": "3.7.2"
  }
 },
 "nbformat": 4,
 "nbformat_minor": 2
}
