{
 "cells": [
  {
   "cell_type": "code",
   "execution_count": 1,
   "metadata": {},
   "outputs": [],
   "source": [
    "import math\n",
    "import matplotlib.pyplot as plt\n",
    "import numpy as np\n",
    "import seaborn as sns\n",
    "import torch\n",
    "import torch.nn as nn\n",
    "import torch.nn.functional as F\n",
    "import torch.optim as optim\n",
    "\n",
    "from tensorboardX import SummaryWriter\n",
    "from torchvision import datasets, transforms\n",
    "from torchvision.utils import make_grid\n",
    "from tqdm import tqdm, trange\n",
    "from torch.autograd import Variable"
   ]
  },
  {
   "cell_type": "code",
   "execution_count": 2,
   "metadata": {},
   "outputs": [
    {
     "name": "stdout",
     "output_type": "stream",
     "text": [
      "False\n"
     ]
    }
   ],
   "source": [
    "DEVICE = torch.device(\"cuda\" if torch.cuda.is_available() else \"cpu\")\n",
    "LOADER_KWARGS = {'num_workers': 1, 'pin_memory': True} if torch.cuda.is_available() else {}\n",
    "print(torch.cuda.is_available())"
   ]
  },
  {
   "cell_type": "code",
   "execution_count": 3,
   "metadata": {},
   "outputs": [],
   "source": [
    "class Gaussian(object):\n",
    "    def __init__(self, mu, rho):\n",
    "        super().__init__()\n",
    "        self.mu = mu\n",
    "        self.rho = rho\n",
    "        self.normal = torch.distributions.Normal(0,1)\n",
    "    \n",
    "    @property\n",
    "    def sigma(self):\n",
    "        return torch.log1p(torch.exp(self.rho))\n",
    "    \n",
    "    def sample(self):\n",
    "        epsilon = self.normal.sample(self.rho.size()).to(DEVICE)\n",
    "        return self.mu + self.sigma * epsilon\n",
    "    \n",
    "    def log_prob(self, input):\n",
    "        return (-math.log(math.sqrt(2 * math.pi))\n",
    "                - torch.log(self.sigma)\n",
    "                - ((input - self.mu) ** 2) / (2 * self.sigma ** 2)).sum()"
   ]
  },
  {
   "cell_type": "code",
   "execution_count": 4,
   "metadata": {},
   "outputs": [],
   "source": [
    "class ScaleMixtureGaussian(object):\n",
    "    def __init__(self, pi, sigma1, sigma2):\n",
    "        super().__init__()\n",
    "        self.pi = pi\n",
    "        self.sigma1 = sigma1\n",
    "        self.sigma2 = sigma2\n",
    "        self.gaussian1 = torch.distributions.Normal(0,sigma1)\n",
    "        self.gaussian2 = torch.distributions.Normal(0,sigma2)\n",
    "    \n",
    "    def log_prob(self, input):\n",
    "        prob1 = torch.exp(self.gaussian1.log_prob(input))\n",
    "        prob2 = torch.exp(self.gaussian2.log_prob(input))\n",
    "        return (torch.log(self.pi * prob1 + (1-self.pi) * prob2)).sum()"
   ]
  },
  {
   "cell_type": "code",
   "execution_count": 5,
   "metadata": {},
   "outputs": [],
   "source": [
    "class BayesianLinear(nn.Module):\n",
    "    def __init__(self, in_features, out_features):\n",
    "        super().__init__()\n",
    "        self.in_features = in_features\n",
    "        self.out_features = out_features\n",
    "        # Weight parameters\n",
    "        self.weight_mu = nn.Parameter(torch.Tensor(out_features, in_features).uniform_(-0.2, 0.2))\n",
    "        self.weight_rho = nn.Parameter(torch.Tensor(out_features, in_features).uniform_(-5,-4))\n",
    "        self.weight = Gaussian(self.weight_mu, self.weight_rho)\n",
    "        # Bias parameters\n",
    "        self.bias_mu = nn.Parameter(torch.Tensor(out_features).uniform_(-0.2, 0.2))\n",
    "        self.bias_rho = nn.Parameter(torch.Tensor(out_features).uniform_(-5,-4))\n",
    "        self.bias = Gaussian(self.bias_mu, self.bias_rho)\n",
    "        # Prior distributions\n",
    "        self.weight_prior = ScaleMixtureGaussian(PI, SIGMA_1, SIGMA_2)\n",
    "        self.bias_prior = ScaleMixtureGaussian(PI, SIGMA_1, SIGMA_2)\n",
    "        self.log_prior = 0\n",
    "        self.log_variational_posterior = 0\n",
    "\n",
    "    def forward(self, input, sample=False, calculate_log_probs=False):\n",
    "        if self.training or sample:\n",
    "            weight = self.weight.sample()\n",
    "            bias = self.bias.sample()\n",
    "        else:\n",
    "            weight = self.weight.mu\n",
    "            bias = self.bias.mu\n",
    "        if self.training or calculate_log_probs:\n",
    "            self.log_prior = self.weight_prior.log_prob(weight) + self.bias_prior.log_prob(bias)\n",
    "            self.log_variational_posterior = self.weight.log_prob(weight) + self.bias.log_prob(bias)\n",
    "        else:\n",
    "            self.log_prior, self.log_variational_posterior = 0, 0\n",
    "\n",
    "        return F.linear(input, weight, bias)"
   ]
  },
  {
   "cell_type": "code",
   "execution_count": 17,
   "metadata": {},
   "outputs": [],
   "source": [
    "class BayesianNetwork(nn.Module):\n",
    "    def __init__(self, inputSize, CLASSES, layers, activations, SAMPLES, BATCH_SIZE, NUM_BATCHES):\n",
    "        super().__init__()\n",
    "        self.inputSize = inputSize\n",
    "        self.activations = activations\n",
    "        self.CLASSES = CLASSES\n",
    "        self.SAMPLES = SAMPLES\n",
    "        self.BATCH_SIZE = BATCH_SIZE\n",
    "        self.NUM_BATCHES = NUM_BATCHES\n",
    "        self.DEPTH = 0\n",
    "\n",
    "        self.layers = nn.ModuleList([])\n",
    "        if layers.size == 0:\n",
    "            self.layers.append(BayesianLinear(inputSize, CLASSES))\n",
    "            self.DEPTH += 1\n",
    "        else:\n",
    "            self.layers.append(BayesianLinear(inputSize, layers[0]))\n",
    "            self.DEPTH += 1\n",
    "            for i in range(layers.size-1):\n",
    "                self.layers.append(BayesianLinear(layers[i], layers[i+1]))\n",
    "                self.DEPTH += 1\n",
    "            self.layers.append(BayesianLinear(layers[layers.size-1], CLASSES))\n",
    "            self.DEPTH += 1\n",
    "            \n",
    "    def forward(self, x, sample=False):\n",
    "        x = x.view(-1, self.inputSize)\n",
    "        layerNumber = 0\n",
    "        for i in range(self.activations.size):\n",
    "            if self.activations[i]=='relu':\n",
    "                x = F.relu(self.layers[layerNumber](x, sample))\n",
    "            elif self.activations[i]=='softmax':\n",
    "                x = F.log_softmax(self.layers[layerNumber](x, sample), dim=1)\n",
    "            else:\n",
    "                x = self.layers[layerNumber](x, sample)\n",
    "            layerNumber+= 1\n",
    "        return x\n",
    "    \n",
    "    def log_prior(self):\n",
    "        value = 0\n",
    "        for i in range(self.DEPTH):\n",
    "            value+= self.layers[i].log_prior\n",
    "        return value\n",
    "    \n",
    "    def log_variational_posterior(self):\n",
    "        value = 0\n",
    "        for i in range(self.DEPTH):\n",
    "            value+= self.layers[i].log_variational_posterior\n",
    "        return value\n",
    "    \n",
    "    def sample_elbo(self, input, target):\n",
    "        samples=self.SAMPLES\n",
    "        outputs = torch.zeros(samples, self.BATCH_SIZE, self.CLASSES).to(DEVICE)\n",
    "        log_priors = torch.zeros(samples).to(DEVICE)\n",
    "        log_variational_posteriors = torch.zeros(samples).to(DEVICE)\n",
    "        negative_log_likelihood = torch.zeros(samples).to(DEVICE)\n",
    "        \n",
    "        for i in range(samples):\n",
    "            outputs[i] = self.forward(input, sample=True)\n",
    "            log_priors[i] = self.log_prior()\n",
    "            log_variational_posteriors[i] = self.log_variational_posterior()\n",
    "            if CLASSES == 1:\n",
    "                negative_log_likelihood[i] = (.5 * (target - outputs[i]) ** 2).sum()\n",
    "            \n",
    "        log_prior = log_priors.mean()\n",
    "        log_variational_posterior = log_variational_posteriors.mean()\n",
    "        if CLASSES > 1:\n",
    "            negative_log_likelihood = F.nll_loss(outputs.mean(0), target, size_average=False)\n",
    "        else:\n",
    "            negative_log_likelihood = negative_log_likelihood.mean()\n",
    "        loss = (log_variational_posterior - log_prior)/self.NUM_BATCHES + negative_log_likelihood\n",
    "        return loss, log_prior, log_variational_posterior, negative_log_likelihood"
   ]
  },
  {
   "cell_type": "markdown",
   "metadata": {},
   "source": [
    "# Regression"
   ]
  },
  {
   "cell_type": "code",
   "execution_count": 10,
   "metadata": {},
   "outputs": [],
   "source": [
    "def train(net, optimizer, data, target):\n",
    "    net.train()\n",
    "    net.zero_grad()\n",
    "    loss, log_prior, log_variational_posterior, negative_log_likelihood = net.sample_elbo(data, target)\n",
    "    loss.backward()\n",
    "    optimizer.step()"
   ]
  },
  {
   "cell_type": "code",
   "execution_count": 11,
   "metadata": {},
   "outputs": [],
   "source": [
    "TRAIN_EPOCHS = 100\n",
    "SAMPLES = 1\n",
    "TEST_SAMPLES = 1\n",
    "BATCH_SIZE = 20\n",
    "NUM_BATCHES = 1\n",
    "TEST_BATCH_SIZE = 50\n",
    "\n",
    "PI = 0.5\n",
    "SIGMA_1 = torch.FloatTensor([math.exp(-0)])\n",
    "SIGMA_2 = torch.FloatTensor([math.exp(-6)])"
   ]
  },
  {
   "cell_type": "code",
   "execution_count": 21,
   "metadata": {},
   "outputs": [
    {
     "data": {
      "image/png": "[encoded data removed]",
      "text/plain": [
       "<Figure size 432x288 with 1 Axes>"
      ]
     },
     "metadata": {
      "needs_background": "light"
     },
     "output_type": "display_data"
    }
   ],
   "source": [
    "Var = lambda x, dtype=torch.FloatTensor: Variable(torch.from_numpy(x).type(dtype))\n",
    "\n",
    "x = np.random.uniform(-4, 4, size=BATCH_SIZE).reshape((-1, 1))\n",
    "noise = np.random.normal(0, 9, size=BATCH_SIZE).reshape((-1, 1))\n",
    "y = x ** 2 + noise\n",
    "X = Var(x)\n",
    "Y = Var(y)\n",
    "\n",
    "x_test = np.linspace(-5, 5)\n",
    "y_test = x_test ** 2\n",
    "X_test = Var(x_test)\n",
    "\n",
    "plt.scatter(X, Y, c='navy', label='target')\n",
    "plt.legend()\n",
    "plt.tight_layout()\n",
    "plt.show()"
   ]
  },
  {
   "cell_type": "code",
   "execution_count": 24,
   "metadata": {},
   "outputs": [],
   "source": [
    "net = BayesianNetwork(inputSize = 1,\\\n",
    "                      CLASSES = 1, \\\n",
    "                      layers=np.array([100,100]), \\\n",
    "                      activations = np.array(['relu','relu','none']), \\\n",
    "                      SAMPLES = SAMPLES, \\\n",
    "                      BATCH_SIZE = BATCH_SIZE,\\\n",
    "                      NUM_BATCHES = NUM_BATCHES).to(DEVICE)\n",
    "optimizer = optim.Adam(net.parameters())\n",
    "for epoch in range(TRAIN_EPOCHS):\n",
    "    train(net, optimizer,data=X,target=Y)"
   ]
  },
  {
   "cell_type": "code",
   "execution_count": 25,
   "metadata": {},
   "outputs": [
    {
     "data": {
      "image/png": "[encoded data removed]",
      "text/plain": [
       "<Figure size 432x288 with 1 Axes>"
      ]
     },
     "metadata": {
      "needs_background": "light"
     },
     "output_type": "display_data"
    }
   ],
   "source": [
    "prediction = net.forward(X_test).data.numpy().squeeze(1)\n",
    "#prediction = [net.forward(X_test).data.numpy().squeeze(1) for _ in range(100)]\n",
    "#pred = np.array(prediction).T\n",
    "pred_mean = np.mean(prediction)*np.ones_like(prediction)\n",
    "pred_std = np.std(prediction)*np.ones_like(prediction)\n",
    "\n",
    "plt.scatter(x, y, c='navy', label='target')\n",
    "\n",
    "plt.plot(x_test, prediction, c='royalblue', label='Prediction')\n",
    "plt.fill_between(x_test, pred_mean - 3 * pred_std, pred_mean + 3 * pred_std,\n",
    "                     color='cornflowerblue', alpha=.5, label='+/- 3 std')\n",
    "\n",
    "plt.plot(x_test, y_test, c='grey', label='truth')\n",
    "\n",
    "plt.legend()\n",
    "plt.tight_layout()\n",
    "plt.show()"
   ]
  },
  {
   "cell_type": "code",
   "execution_count": 23,
   "metadata": {},
   "outputs": [
    {
     "data": {
      "image/png": "[encoded data removed]",
      "text/plain": [
       "<Figure size 432x288 with 1 Axes>"
      ]
     },
     "metadata": {
      "needs_background": "light"
     },
     "output_type": "display_data"
    }
   ],
   "source": [
    "plt.scatter(x_test, prediction, c='navy', label='prediction')\n",
    "plt.legend()\n",
    "plt.tight_layout()\n",
    "plt.show()"
   ]
  }
 ],
 "metadata": {
  "kernelspec": {
   "display_name": "Python 3",
   "language": "python",
   "name": "python3"
  },
  "language_info": {
   "codemirror_mode": {
    "name": "ipython",
    "version": 3
   },
   "file_extension": ".py",
   "mimetype": "text/x-python",
   "name": "python",
   "nbconvert_exporter": "python",
   "pygments_lexer": "ipython3",
   "version": "3.7.0"
  }
 },
 "nbformat": 4,
 "nbformat_minor": 2
}
